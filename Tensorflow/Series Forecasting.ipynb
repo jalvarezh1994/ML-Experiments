{
 "cells": [
  {
   "cell_type": "code",
   "execution_count": 1,
   "metadata": {},
   "outputs": [],
   "source": [
    "from tensorflow.keras.layers import Input, Dense, SimpleRNN\n",
    "from tensorflow.keras.models import Model\n",
    "from tensorflow.keras.optimizers import SGD, Adam\n",
    "\n",
    "import numpy as np\n",
    "import pandas as pd\n",
    "import matplotlib.pyplot as plt"
   ]
  },
  {
   "cell_type": "code",
   "execution_count": 2,
   "metadata": {},
   "outputs": [],
   "source": [
    "series = np.sin(0.1*np.arange(200)) + np.random.rand(200)*"
   ]
  },
  {
   "cell_type": "code",
   "execution_count": 3,
   "metadata": {},
   "outputs": [
    {
     "data": {
      "image/png": "[encoded data removed]",
      "text/plain": [
       "<Figure size 432x288 with 1 Axes>"
      ]
     },
     "metadata": {
      "needs_background": "light"
     },
     "output_type": "display_data"
    }
   ],
   "source": [
    "plt.plot(series)\n",
    "plt.show()"
   ]
  },
  {
   "cell_type": "code",
   "execution_count": 4,
   "metadata": {},
   "outputs": [],
   "source": [
    "T = 10\n",
    "X = []\n",
    "Y = []\n",
    "for t in range(len(series) - T):\n",
    "    x = series[t:t+T]\n",
    "    X.append(x)\n",
    "    y = series[t+T]\n",
    "    Y.append(y)"
   ]
  },
  {
   "cell_type": "code",
   "execution_count": 5,
   "metadata": {},
   "outputs": [],
   "source": [
    "X = np.array(X).reshape(-1, T)\n",
    "Y = np.array(Y)\n",
    "N = len(X)"
   ]
  },
  {
   "cell_type": "code",
   "execution_count": 6,
   "metadata": {},
   "outputs": [
    {
     "name": "stdout",
     "output_type": "stream",
     "text": [
      "WARNING:tensorflow:From /home/jorge/anaconda3/lib/python3.7/site-packages/tensorflow_core/python/ops/resource_variable_ops.py:1630: calling BaseResourceVariable.__init__ (from tensorflow.python.ops.resource_variable_ops) with constraint is deprecated and will be removed in a future version.\n",
      "Instructions for updating:\n",
      "If using Keras pass *_constraint arguments to layers.\n",
      "Train on 95 samples\n",
      "Epoch 1/80\n",
      "95/95 [==============================] - 0s 2ms/sample - loss: 0.3181\n",
      "Epoch 2/80\n",
      "95/95 [==============================] - 0s 60us/sample - loss: 0.1225\n",
      "Epoch 3/80\n",
      "95/95 [==============================] - 0s 82us/sample - loss: 0.1026\n",
      "Epoch 4/80\n",
      "95/95 [==============================] - 0s 56us/sample - loss: 0.1038\n",
      "Epoch 5/80\n",
      "95/95 [==============================] - 0s 127us/sample - loss: 0.0769\n",
      "Epoch 6/80\n",
      "95/95 [==============================] - 0s 63us/sample - loss: 0.0764\n",
      "Epoch 7/80\n",
      "95/95 [==============================] - 0s 63us/sample - loss: 0.0786\n",
      "Epoch 8/80\n",
      "95/95 [==============================] - 0s 63us/sample - loss: 0.0590\n",
      "Epoch 9/80\n",
      "95/95 [==============================] - 0s 62us/sample - loss: 0.0661\n",
      "Epoch 10/80\n",
      "95/95 [==============================] - 0s 74us/sample - loss: 0.0548\n",
      "Epoch 11/80\n",
      "95/95 [==============================] - 0s 58us/sample - loss: 0.0505\n",
      "Epoch 12/80\n",
      "95/95 [==============================] - 0s 60us/sample - loss: 0.0508\n",
      "Epoch 13/80\n",
      "95/95 [==============================] - 0s 69us/sample - loss: 0.0497\n",
      "Epoch 14/80\n",
      "95/95 [==============================] - 0s 57us/sample - loss: 0.0450\n",
      "Epoch 15/80\n",
      "95/95 [==============================] - 0s 76us/sample - loss: 0.0442\n",
      "Epoch 16/80\n",
      "95/95 [==============================] - 0s 59us/sample - loss: 0.0420\n",
      "Epoch 17/80\n",
      "95/95 [==============================] - 0s 73us/sample - loss: 0.0400\n",
      "Epoch 18/80\n",
      "95/95 [==============================] - 0s 86us/sample - loss: 0.0379\n",
      "Epoch 19/80\n",
      "95/95 [==============================] - 0s 64us/sample - loss: 0.0384\n",
      "Epoch 20/80\n",
      "95/95 [==============================] - 0s 50us/sample - loss: 0.0359\n",
      "Epoch 21/80\n",
      "95/95 [==============================] - 0s 78us/sample - loss: 0.0381\n",
      "Epoch 22/80\n",
      "95/95 [==============================] - 0s 51us/sample - loss: 0.0373\n",
      "Epoch 23/80\n",
      "95/95 [==============================] - 0s 67us/sample - loss: 0.0391\n",
      "Epoch 24/80\n",
      "95/95 [==============================] - 0s 69us/sample - loss: 0.0355\n",
      "Epoch 25/80\n",
      "95/95 [==============================] - 0s 69us/sample - loss: 0.0364\n",
      "Epoch 26/80\n",
      "95/95 [==============================] - 0s 71us/sample - loss: 0.0351\n",
      "Epoch 27/80\n",
      "95/95 [==============================] - 0s 58us/sample - loss: 0.0328\n",
      "Epoch 28/80\n",
      "95/95 [==============================] - 0s 50us/sample - loss: 0.0353\n",
      "Epoch 29/80\n",
      "95/95 [==============================] - 0s 104us/sample - loss: 0.0345\n",
      "Epoch 30/80\n",
      "95/95 [==============================] - 0s 48us/sample - loss: 0.0313\n",
      "Epoch 31/80\n",
      "95/95 [==============================] - 0s 86us/sample - loss: 0.0337\n",
      "Epoch 32/80\n",
      "95/95 [==============================] - 0s 67us/sample - loss: 0.0334\n",
      "Epoch 33/80\n",
      "95/95 [==============================] - 0s 69us/sample - loss: 0.0328\n",
      "Epoch 34/80\n",
      "95/95 [==============================] - 0s 69us/sample - loss: 0.0333\n",
      "Epoch 35/80\n",
      "95/95 [==============================] - 0s 60us/sample - loss: 0.0309\n",
      "Epoch 36/80\n",
      "95/95 [==============================] - 0s 79us/sample - loss: 0.0322\n",
      "Epoch 37/80\n",
      "95/95 [==============================] - 0s 48us/sample - loss: 0.0307\n",
      "Epoch 38/80\n",
      "95/95 [==============================] - 0s 96us/sample - loss: 0.0319\n",
      "Epoch 39/80\n",
      "95/95 [==============================] - 0s 76us/sample - loss: 0.0306\n",
      "Epoch 40/80\n",
      "95/95 [==============================] - 0s 84us/sample - loss: 0.0315\n",
      "Epoch 41/80\n",
      "95/95 [==============================] - 0s 112us/sample - loss: 0.0305\n",
      "Epoch 42/80\n",
      "95/95 [==============================] - 0s 108us/sample - loss: 0.0308\n",
      "Epoch 43/80\n",
      "95/95 [==============================] - 0s 95us/sample - loss: 0.0327\n",
      "Epoch 44/80\n",
      "95/95 [==============================] - 0s 73us/sample - loss: 0.0365\n",
      "Epoch 45/80\n",
      "95/95 [==============================] - 0s 58us/sample - loss: 0.0332\n",
      "Epoch 46/80\n",
      "95/95 [==============================] - 0s 90us/sample - loss: 0.0328\n",
      "Epoch 47/80\n",
      "95/95 [==============================] - 0s 65us/sample - loss: 0.0355\n",
      "Epoch 48/80\n",
      "95/95 [==============================] - 0s 57us/sample - loss: 0.0448\n",
      "Epoch 49/80\n",
      "95/95 [==============================] - 0s 73us/sample - loss: 0.0371\n",
      "Epoch 50/80\n",
      "95/95 [==============================] - 0s 80us/sample - loss: 0.0378\n",
      "Epoch 51/80\n",
      "95/95 [==============================] - 0s 113us/sample - loss: 0.0431\n",
      "Epoch 52/80\n",
      "95/95 [==============================] - 0s 66us/sample - loss: 0.0340\n",
      "Epoch 53/80\n",
      "95/95 [==============================] - 0s 94us/sample - loss: 0.0318\n",
      "Epoch 54/80\n",
      "95/95 [==============================] - 0s 117us/sample - loss: 0.0381\n",
      "Epoch 55/80\n",
      "95/95 [==============================] - 0s 74us/sample - loss: 0.0293\n",
      "Epoch 56/80\n",
      "95/95 [==============================] - 0s 71us/sample - loss: 0.0308\n",
      "Epoch 57/80\n",
      "95/95 [==============================] - 0s 62us/sample - loss: 0.0316\n",
      "Epoch 58/80\n",
      "95/95 [==============================] - 0s 51us/sample - loss: 0.0314\n",
      "Epoch 59/80\n",
      "95/95 [==============================] - 0s 90us/sample - loss: 0.0324\n",
      "Epoch 60/80\n",
      "95/95 [==============================] - 0s 75us/sample - loss: 0.0360\n",
      "Epoch 61/80\n",
      "95/95 [==============================] - 0s 62us/sample - loss: 0.0357\n",
      "Epoch 62/80\n",
      "95/95 [==============================] - 0s 69us/sample - loss: 0.0449\n",
      "Epoch 63/80\n",
      "95/95 [==============================] - 0s 51us/sample - loss: 0.0522\n",
      "Epoch 64/80\n",
      "95/95 [==============================] - 0s 53us/sample - loss: 0.0438\n",
      "Epoch 65/80\n",
      "95/95 [==============================] - 0s 92us/sample - loss: 0.0416\n",
      "Epoch 66/80\n",
      "95/95 [==============================] - 0s 65us/sample - loss: 0.0367\n",
      "Epoch 67/80\n",
      "95/95 [==============================] - 0s 78us/sample - loss: 0.0315\n",
      "Epoch 68/80\n",
      "95/95 [==============================] - 0s 68us/sample - loss: 0.0461\n",
      "Epoch 69/80\n",
      "95/95 [==============================] - 0s 68us/sample - loss: 0.0417\n",
      "Epoch 70/80\n",
      "95/95 [==============================] - 0s 67us/sample - loss: 0.0349\n",
      "Epoch 71/80\n",
      "95/95 [==============================] - 0s 65us/sample - loss: 0.0319\n",
      "Epoch 72/80\n",
      "95/95 [==============================] - 0s 52us/sample - loss: 0.0305\n",
      "Epoch 73/80\n",
      "95/95 [==============================] - 0s 65us/sample - loss: 0.0310\n",
      "Epoch 74/80\n",
      "95/95 [==============================] - 0s 56us/sample - loss: 0.0305\n",
      "Epoch 75/80\n",
      "95/95 [==============================] - 0s 77us/sample - loss: 0.0322\n",
      "Epoch 76/80\n",
      "95/95 [==============================] - 0s 51us/sample - loss: 0.0315\n",
      "Epoch 77/80\n",
      "95/95 [==============================] - 0s 62us/sample - loss: 0.0332\n",
      "Epoch 78/80\n",
      "95/95 [==============================] - 0s 69us/sample - loss: 0.0323\n",
      "Epoch 79/80\n",
      "95/95 [==============================] - 0s 83us/sample - loss: 0.0325\n",
      "Epoch 80/80\n",
      "95/95 [==============================] - 0s 67us/sample - loss: 0.0307\n"
     ]
    }
   ],
   "source": [
    "i = Input(shape=(T,))\n",
    "x = Dense(1)(i)\n",
    "model = Model(i,x)\n",
    "model.compile(\n",
    "    loss='mse',\n",
    "    optimizer=Adam(lr=0.1)\n",
    ")\n",
    "r = Model.fit(model, x = X[:N//2], y = Y[:N//2], epochs = 80)"
   ]
  },
  {
   "cell_type": "code",
   "execution_count": 7,
   "metadata": {},
   "outputs": [
    {
     "data": {
      "text/plain": [
       "[<matplotlib.lines.Line2D at 0x7f23103b8e90>]"
      ]
     },
     "execution_count": 7,
     "metadata": {},
     "output_type": "execute_result"
    },
    {
     "data": {
      "image/png": "[encoded data removed]",
      "text/plain": [
       "<Figure size 432x288 with 1 Axes>"
      ]
     },
     "metadata": {
      "needs_background": "light"
     },
     "output_type": "display_data"
    }
   ],
   "source": [
    "plt.plot(r.history['loss'], label = 'loss')"
   ]
  },
  {
   "cell_type": "code",
   "execution_count": 8,
   "metadata": {},
   "outputs": [],
   "source": [
    "predictions = []\n",
    "real = []\n",
    "for elem in X[N//2:]:\n",
    "    predictions.append(model.predict(elem.reshape(1,-1))[0][0])\n",
    "    real.append(elem[9])"
   ]
  },
  {
   "cell_type": "code",
   "execution_count": 9,
   "metadata": {},
   "outputs": [
    {
     "data": {
      "image/png": "[encoded data removed]",
      "text/plain": [
       "<Figure size 432x288 with 1 Axes>"
      ]
     },
     "metadata": {
      "needs_background": "light"
     },
     "output_type": "display_data"
    }
   ],
   "source": [
    "plt.plot(predictions, label='prediction')\n",
    "plt.plot(real, label='real')\n",
    "plt.legend()\n",
    "plt.show()"
   ]
  },
  {
   "cell_type": "markdown",
   "metadata": {},
   "source": [
    "# Now with a SimpleRNN"
   ]
  },
  {
   "cell_type": "code",
   "execution_count": 10,
   "metadata": {},
   "outputs": [],
   "source": [
    "newX = np.expand_dims(X, -1)"
   ]
  },
  {
   "cell_type": "code",
   "execution_count": 11,
   "metadata": {},
   "outputs": [
    {
     "name": "stdout",
     "output_type": "stream",
     "text": [
      "Train on 95 samples\n",
      "Epoch 1/80\n",
      "95/95 [==============================] - 0s 4ms/sample - loss: 0.5032\n",
      "Epoch 2/80\n",
      "95/95 [==============================] - 0s 213us/sample - loss: 0.3505\n",
      "Epoch 3/80\n",
      "95/95 [==============================] - 0s 343us/sample - loss: 0.3214\n",
      "Epoch 4/80\n",
      "95/95 [==============================] - 0s 324us/sample - loss: 0.2635\n",
      "Epoch 5/80\n",
      "95/95 [==============================] - 0s 319us/sample - loss: 0.1344\n",
      "Epoch 6/80\n",
      "95/95 [==============================] - 0s 264us/sample - loss: 0.0608\n",
      "Epoch 7/80\n",
      "95/95 [==============================] - 0s 214us/sample - loss: 0.0580\n",
      "Epoch 8/80\n",
      "95/95 [==============================] - 0s 214us/sample - loss: 0.0929\n",
      "Epoch 9/80\n",
      "95/95 [==============================] - 0s 331us/sample - loss: 0.0796\n",
      "Epoch 10/80\n",
      "95/95 [==============================] - 0s 230us/sample - loss: 0.0540\n",
      "Epoch 11/80\n",
      "95/95 [==============================] - 0s 270us/sample - loss: 0.0467\n",
      "Epoch 12/80\n",
      "95/95 [==============================] - 0s 222us/sample - loss: 0.0552\n",
      "Epoch 13/80\n",
      "95/95 [==============================] - 0s 202us/sample - loss: 0.0598\n",
      "Epoch 14/80\n",
      "95/95 [==============================] - 0s 294us/sample - loss: 0.0551\n",
      "Epoch 15/80\n",
      "95/95 [==============================] - 0s 214us/sample - loss: 0.0496\n",
      "Epoch 16/80\n",
      "95/95 [==============================] - 0s 283us/sample - loss: 0.0448\n",
      "Epoch 17/80\n",
      "95/95 [==============================] - 0s 212us/sample - loss: 0.0471\n",
      "Epoch 18/80\n",
      "95/95 [==============================] - 0s 315us/sample - loss: 0.0482\n",
      "Epoch 19/80\n",
      "95/95 [==============================] - 0s 232us/sample - loss: 0.0462\n",
      "Epoch 20/80\n",
      "95/95 [==============================] - 0s 310us/sample - loss: 0.0460\n",
      "Epoch 21/80\n",
      "95/95 [==============================] - 0s 214us/sample - loss: 0.0452\n",
      "Epoch 22/80\n",
      "95/95 [==============================] - 0s 336us/sample - loss: 0.0429\n",
      "Epoch 23/80\n",
      "95/95 [==============================] - 0s 269us/sample - loss: 0.0447\n",
      "Epoch 24/80\n",
      "95/95 [==============================] - 0s 312us/sample - loss: 0.0424\n",
      "Epoch 25/80\n",
      "95/95 [==============================] - 0s 225us/sample - loss: 0.0432\n",
      "Epoch 26/80\n",
      "95/95 [==============================] - 0s 190us/sample - loss: 0.0476\n",
      "Epoch 27/80\n",
      "95/95 [==============================] - 0s 242us/sample - loss: 0.0444\n",
      "Epoch 28/80\n",
      "95/95 [==============================] - 0s 244us/sample - loss: 0.0460\n",
      "Epoch 29/80\n",
      "95/95 [==============================] - 0s 246us/sample - loss: 0.0440\n",
      "Epoch 30/80\n",
      "95/95 [==============================] - 0s 218us/sample - loss: 0.0422\n",
      "Epoch 31/80\n",
      "95/95 [==============================] - 0s 249us/sample - loss: 0.0426\n",
      "Epoch 32/80\n",
      "95/95 [==============================] - 0s 238us/sample - loss: 0.0423\n",
      "Epoch 33/80\n",
      "95/95 [==============================] - 0s 207us/sample - loss: 0.0431\n",
      "Epoch 34/80\n",
      "95/95 [==============================] - 0s 240us/sample - loss: 0.0433\n",
      "Epoch 35/80\n",
      "95/95 [==============================] - 0s 187us/sample - loss: 0.0423\n",
      "Epoch 36/80\n",
      "95/95 [==============================] - 0s 203us/sample - loss: 0.0433\n",
      "Epoch 37/80\n",
      "95/95 [==============================] - 0s 226us/sample - loss: 0.0448\n",
      "Epoch 38/80\n",
      "95/95 [==============================] - 0s 235us/sample - loss: 0.0490\n",
      "Epoch 39/80\n",
      "95/95 [==============================] - 0s 246us/sample - loss: 0.0435\n",
      "Epoch 40/80\n",
      "95/95 [==============================] - 0s 238us/sample - loss: 0.0433\n",
      "Epoch 41/80\n",
      "95/95 [==============================] - 0s 220us/sample - loss: 0.0413\n",
      "Epoch 42/80\n",
      "95/95 [==============================] - 0s 235us/sample - loss: 0.0418\n",
      "Epoch 43/80\n",
      "95/95 [==============================] - 0s 244us/sample - loss: 0.0422\n",
      "Epoch 44/80\n",
      "95/95 [==============================] - 0s 220us/sample - loss: 0.0411\n",
      "Epoch 45/80\n",
      "95/95 [==============================] - 0s 220us/sample - loss: 0.0413\n",
      "Epoch 46/80\n",
      "95/95 [==============================] - 0s 192us/sample - loss: 0.0414\n",
      "Epoch 47/80\n",
      "95/95 [==============================] - 0s 231us/sample - loss: 0.0409\n",
      "Epoch 48/80\n",
      "95/95 [==============================] - 0s 211us/sample - loss: 0.0411\n",
      "Epoch 49/80\n",
      "95/95 [==============================] - 0s 202us/sample - loss: 0.0442\n",
      "Epoch 50/80\n",
      "95/95 [==============================] - 0s 263us/sample - loss: 0.0414\n",
      "Epoch 51/80\n",
      "95/95 [==============================] - 0s 242us/sample - loss: 0.0411\n",
      "Epoch 52/80\n",
      "95/95 [==============================] - 0s 255us/sample - loss: 0.0422\n",
      "Epoch 53/80\n",
      "95/95 [==============================] - 0s 258us/sample - loss: 0.0405\n",
      "Epoch 54/80\n",
      "95/95 [==============================] - 0s 286us/sample - loss: 0.0406\n",
      "Epoch 55/80\n",
      "95/95 [==============================] - 0s 281us/sample - loss: 0.0400\n",
      "Epoch 56/80\n",
      "95/95 [==============================] - 0s 340us/sample - loss: 0.0409\n",
      "Epoch 57/80\n",
      "95/95 [==============================] - 0s 278us/sample - loss: 0.0481\n",
      "Epoch 58/80\n",
      "95/95 [==============================] - 0s 208us/sample - loss: 0.0409\n",
      "Epoch 59/80\n",
      "95/95 [==============================] - 0s 272us/sample - loss: 0.0417\n",
      "Epoch 60/80\n",
      "95/95 [==============================] - 0s 240us/sample - loss: 0.0464\n",
      "Epoch 61/80\n",
      "95/95 [==============================] - 0s 252us/sample - loss: 0.0435\n",
      "Epoch 62/80\n",
      "95/95 [==============================] - 0s 271us/sample - loss: 0.0393\n",
      "Epoch 63/80\n",
      "95/95 [==============================] - 0s 244us/sample - loss: 0.0429\n",
      "Epoch 64/80\n",
      "95/95 [==============================] - 0s 271us/sample - loss: 0.0475\n",
      "Epoch 65/80\n",
      "95/95 [==============================] - 0s 208us/sample - loss: 0.0449\n",
      "Epoch 66/80\n",
      "95/95 [==============================] - 0s 216us/sample - loss: 0.0406\n",
      "Epoch 67/80\n",
      "95/95 [==============================] - 0s 303us/sample - loss: 0.0433\n",
      "Epoch 68/80\n",
      "95/95 [==============================] - 0s 258us/sample - loss: 0.0425\n",
      "Epoch 69/80\n",
      "95/95 [==============================] - 0s 275us/sample - loss: 0.0427\n",
      "Epoch 70/80\n",
      "95/95 [==============================] - 0s 457us/sample - loss: 0.0422\n",
      "Epoch 71/80\n",
      "95/95 [==============================] - 0s 183us/sample - loss: 0.0453\n",
      "Epoch 72/80\n",
      "95/95 [==============================] - 0s 305us/sample - loss: 0.0439\n",
      "Epoch 73/80\n",
      "95/95 [==============================] - 0s 273us/sample - loss: 0.0420\n",
      "Epoch 74/80\n",
      "95/95 [==============================] - 0s 318us/sample - loss: 0.0447\n",
      "Epoch 75/80\n",
      "95/95 [==============================] - 0s 236us/sample - loss: 0.0439\n",
      "Epoch 76/80\n",
      "95/95 [==============================] - 0s 274us/sample - loss: 0.0416\n",
      "Epoch 77/80\n",
      "95/95 [==============================] - 0s 229us/sample - loss: 0.0440\n",
      "Epoch 78/80\n",
      "95/95 [==============================] - 0s 205us/sample - loss: 0.0408\n",
      "Epoch 79/80\n",
      "95/95 [==============================] - 0s 272us/sample - loss: 0.0415\n",
      "Epoch 80/80\n",
      "95/95 [==============================] - 0s 229us/sample - loss: 0.0400\n"
     ]
    }
   ],
   "source": [
    "i = Input(shape=(T,1))\n",
    "x = SimpleRNN(5, activation='relu')(i)\n",
    "x = Dense(1)(x)\n",
    "rnnModel = Model(i,x)\n",
    "rnnModel.compile(\n",
    "    loss='mse',\n",
    "    optimizer=Adam(lr=0.1)\n",
    ")\n",
    "r = Model.fit(rnnModel, x = newX[:N//2], y = Y[:N//2], epochs = 80)"
   ]
  },
  {
   "cell_type": "code",
   "execution_count": 13,
   "metadata": {},
   "outputs": [
    {
     "data": {
      "image/png": "[encoded data removed]",
      "text/plain": [
       "<Figure size 432x288 with 1 Axes>"
      ]
     },
     "metadata": {
      "needs_background": "light"
     },
     "output_type": "display_data"
    }
   ],
   "source": [
    "predictions = rnnModel.predict(newX[N//2:]).reshape(N//2,)\n",
    "plt.plot(predictions, label='prediction')\n",
    "plt.plot(real, label='real')\n",
    "plt.legend()\n",
    "plt.show()"
   ]
  },
  {
   "cell_type": "code",
   "execution_count": null,
   "metadata": {},
   "outputs": [],
   "source": []
  }
 ],
 "metadata": {
  "kernelspec": {
   "display_name": "Python 3",
   "language": "python",
   "name": "python3"
  },
  "language_info": {
   "codemirror_mode": {
    "name": "ipython",
    "version": 3
   },
   "file_extension": ".py",
   "mimetype": "text/x-python",
   "name": "python",
   "nbconvert_exporter": "python",
   "pygments_lexer": "ipython3",
   "version": "3.7.4"
  }
 },
 "nbformat": 4,
 "nbformat_minor": 2
}
