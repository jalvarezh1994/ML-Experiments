{
 "cells": [
  {
   "cell_type": "code",
   "execution_count": 1,
   "metadata": {},
   "outputs": [],
   "source": [
    "import tensorflow as tf"
   ]
  },
  {
   "cell_type": "code",
   "execution_count": 2,
   "metadata": {},
   "outputs": [],
   "source": [
    "import matplotlib.pyplot as plt"
   ]
  },
  {
   "cell_type": "code",
   "execution_count": 3,
   "metadata": {},
   "outputs": [],
   "source": [
    "import numpy as np"
   ]
  },
  {
   "cell_type": "code",
   "execution_count": 4,
   "metadata": {},
   "outputs": [],
   "source": [
    "import seaborn as sns"
   ]
  },
  {
   "cell_type": "code",
   "execution_count": 5,
   "metadata": {},
   "outputs": [],
   "source": [
    "from sklearn.datasets import load_breast_cancer"
   ]
  },
  {
   "cell_type": "code",
   "execution_count": 6,
   "metadata": {},
   "outputs": [],
   "source": [
    "from sklearn.model_selection import train_test_split"
   ]
  },
  {
   "cell_type": "code",
   "execution_count": 7,
   "metadata": {},
   "outputs": [],
   "source": [
    "import sklearn as sk"
   ]
  },
  {
   "cell_type": "code",
   "execution_count": 8,
   "metadata": {},
   "outputs": [],
   "source": [
    "data = load_breast_cancer()"
   ]
  },
  {
   "cell_type": "code",
   "execution_count": 9,
   "metadata": {},
   "outputs": [
    {
     "data": {
      "text/plain": [
       "dict_keys(['data', 'target', 'target_names', 'DESCR', 'feature_names', 'filename'])"
      ]
     },
     "execution_count": 9,
     "metadata": {},
     "output_type": "execute_result"
    }
   ],
   "source": [
    "data.keys()"
   ]
  },
  {
   "cell_type": "code",
   "execution_count": 10,
   "metadata": {},
   "outputs": [
    {
     "data": {
      "text/plain": [
       "array([0, 0, 0, 0, 0, 0, 0, 0, 0, 0, 0, 0, 0, 0, 0, 0, 0, 0, 0, 1, 1, 1,\n",
       "       0, 0, 0, 0, 0, 0, 0, 0, 0, 0, 0, 0, 0, 0, 0, 1, 0, 0, 0, 0, 0, 0,\n",
       "       0, 0, 1, 0, 1, 1, 1, 1, 1, 0, 0, 1, 0, 0, 1, 1, 1, 1, 0, 1, 0, 0,\n",
       "       1, 1, 1, 1, 0, 1, 0, 0, 1, 0, 1, 0, 0, 1, 1, 1, 0, 0, 1, 0, 0, 0,\n",
       "       1, 1, 1, 0, 1, 1, 0, 0, 1, 1, 1, 0, 0, 1, 1, 1, 1, 0, 1, 1, 0, 1,\n",
       "       1, 1, 1, 1, 1, 1, 1, 0, 0, 0, 1, 0, 0, 1, 1, 1, 0, 0, 1, 0, 1, 0,\n",
       "       0, 1, 0, 0, 1, 1, 0, 1, 1, 0, 1, 1, 1, 1, 0, 1, 1, 1, 1, 1, 1, 1,\n",
       "       1, 1, 0, 1, 1, 1, 1, 0, 0, 1, 0, 1, 1, 0, 0, 1, 1, 0, 0, 1, 1, 1,\n",
       "       1, 0, 1, 1, 0, 0, 0, 1, 0, 1, 0, 1, 1, 1, 0, 1, 1, 0, 0, 1, 0, 0,\n",
       "       0, 0, 1, 0, 0, 0, 1, 0, 1, 0, 1, 1, 0, 1, 0, 0, 0, 0, 1, 1, 0, 0,\n",
       "       1, 1, 1, 0, 1, 1, 1, 1, 1, 0, 0, 1, 1, 0, 1, 1, 0, 0, 1, 0, 1, 1,\n",
       "       1, 1, 0, 1, 1, 1, 1, 1, 0, 1, 0, 0, 0, 0, 0, 0, 0, 0, 0, 0, 0, 0,\n",
       "       0, 0, 1, 1, 1, 1, 1, 1, 0, 1, 0, 1, 1, 0, 1, 1, 0, 1, 0, 0, 1, 1,\n",
       "       1, 1, 1, 1, 1, 1, 1, 1, 1, 1, 1, 0, 1, 1, 0, 1, 0, 1, 1, 1, 1, 1,\n",
       "       1, 1, 1, 1, 1, 1, 1, 1, 1, 0, 1, 1, 1, 0, 1, 0, 1, 1, 1, 1, 0, 0,\n",
       "       0, 1, 1, 1, 1, 0, 1, 0, 1, 0, 1, 1, 1, 0, 1, 1, 1, 1, 1, 1, 1, 0,\n",
       "       0, 0, 1, 1, 1, 1, 1, 1, 1, 1, 1, 1, 1, 0, 0, 1, 0, 0, 0, 1, 0, 0,\n",
       "       1, 1, 1, 1, 1, 0, 1, 1, 1, 1, 1, 0, 1, 1, 1, 0, 1, 1, 0, 0, 1, 1,\n",
       "       1, 1, 1, 1, 0, 1, 1, 1, 1, 1, 1, 1, 0, 1, 1, 1, 1, 1, 0, 1, 1, 0,\n",
       "       1, 1, 1, 1, 1, 1, 1, 1, 1, 1, 1, 1, 0, 1, 0, 0, 1, 0, 1, 1, 1, 1,\n",
       "       1, 0, 1, 1, 0, 1, 0, 1, 1, 0, 1, 0, 1, 1, 1, 1, 1, 1, 1, 1, 0, 0,\n",
       "       1, 1, 1, 1, 1, 1, 0, 1, 1, 1, 1, 1, 1, 1, 1, 1, 1, 0, 1, 1, 1, 1,\n",
       "       1, 1, 1, 0, 1, 0, 1, 1, 0, 1, 1, 1, 1, 1, 0, 0, 1, 0, 1, 0, 1, 1,\n",
       "       1, 1, 1, 0, 1, 1, 0, 1, 0, 1, 0, 0, 1, 1, 1, 0, 1, 1, 1, 1, 1, 1,\n",
       "       1, 1, 1, 1, 1, 0, 1, 0, 0, 1, 1, 1, 1, 1, 1, 1, 1, 1, 1, 1, 1, 1,\n",
       "       1, 1, 1, 1, 1, 1, 1, 1, 1, 1, 1, 1, 0, 0, 0, 0, 0, 0, 1])"
      ]
     },
     "execution_count": 10,
     "metadata": {},
     "output_type": "execute_result"
    }
   ],
   "source": [
    "data.target"
   ]
  },
  {
   "cell_type": "code",
   "execution_count": 11,
   "metadata": {},
   "outputs": [
    {
     "data": {
      "text/plain": [
       "(569, 30)"
      ]
     },
     "execution_count": 11,
     "metadata": {},
     "output_type": "execute_result"
    }
   ],
   "source": [
    "data.data.shape"
   ]
  },
  {
   "cell_type": "code",
   "execution_count": 12,
   "metadata": {},
   "outputs": [],
   "source": [
    "trainX, testX, trainY, testY = train_test_split(data.data, data.target, test_size=0.33)"
   ]
  },
  {
   "cell_type": "code",
   "execution_count": 13,
   "metadata": {},
   "outputs": [],
   "source": [
    "i,j = trainX.shape"
   ]
  },
  {
   "cell_type": "code",
   "execution_count": 14,
   "metadata": {},
   "outputs": [
    {
     "data": {
      "text/plain": [
       "(381,)"
      ]
     },
     "execution_count": 14,
     "metadata": {},
     "output_type": "execute_result"
    }
   ],
   "source": [
    "trainY.shape"
   ]
  },
  {
   "cell_type": "code",
   "execution_count": 20,
   "metadata": {},
   "outputs": [
    {
     "name": "stdout",
     "output_type": "stream",
     "text": [
      "Train on 381 samples\n",
      "Epoch 1/100\n",
      "381/381 [==============================] - 0s 508us/sample - loss: 1.1502 - acc: 0.4094\n",
      "Epoch 2/100\n",
      "381/381 [==============================] - 0s 108us/sample - loss: 1.0436 - acc: 0.4383\n",
      "Epoch 3/100\n",
      "381/381 [==============================] - 0s 100us/sample - loss: 0.9384 - acc: 0.4908\n",
      "Epoch 4/100\n",
      "381/381 [==============================] - 0s 100us/sample - loss: 0.8530 - acc: 0.5144\n",
      "Epoch 5/100\n",
      "381/381 [==============================] - 0s 90us/sample - loss: 0.7694 - acc: 0.5538\n",
      "Epoch 6/100\n",
      "381/381 [==============================] - 0s 72us/sample - loss: 0.6955 - acc: 0.6063\n",
      "Epoch 7/100\n",
      "381/381 [==============================] - 0s 103us/sample - loss: 0.6341 - acc: 0.6378\n",
      "Epoch 8/100\n",
      "381/381 [==============================] - 0s 115us/sample - loss: 0.5770 - acc: 0.6824\n",
      "Epoch 9/100\n",
      "381/381 [==============================] - 0s 91us/sample - loss: 0.5301 - acc: 0.7402\n",
      "Epoch 10/100\n",
      "381/381 [==============================] - 0s 83us/sample - loss: 0.4883 - acc: 0.7848\n",
      "Epoch 11/100\n",
      "381/381 [==============================] - 0s 95us/sample - loss: 0.4519 - acc: 0.8084\n",
      "Epoch 12/100\n",
      "381/381 [==============================] - 0s 74us/sample - loss: 0.4213 - acc: 0.8373\n",
      "Epoch 13/100\n",
      "381/381 [==============================] - 0s 76us/sample - loss: 0.3924 - acc: 0.8583\n",
      "Epoch 14/100\n",
      "381/381 [==============================] - 0s 91us/sample - loss: 0.3697 - acc: 0.8819\n",
      "Epoch 15/100\n",
      "381/381 [==============================] - 0s 74us/sample - loss: 0.3473 - acc: 0.8898\n",
      "Epoch 16/100\n",
      "381/381 [==============================] - 0s 86us/sample - loss: 0.3295 - acc: 0.8976\n",
      "Epoch 17/100\n",
      "381/381 [==============================] - 0s 83us/sample - loss: 0.3113 - acc: 0.8976\n",
      "Epoch 18/100\n",
      "381/381 [==============================] - 0s 82us/sample - loss: 0.2970 - acc: 0.8976\n",
      "Epoch 19/100\n",
      "381/381 [==============================] - 0s 66us/sample - loss: 0.2829 - acc: 0.9029\n",
      "Epoch 20/100\n",
      "381/381 [==============================] - 0s 72us/sample - loss: 0.2710 - acc: 0.9134\n",
      "Epoch 21/100\n",
      "381/381 [==============================] - 0s 101us/sample - loss: 0.2599 - acc: 0.9186\n",
      "Epoch 22/100\n",
      "381/381 [==============================] - 0s 75us/sample - loss: 0.2501 - acc: 0.9239\n",
      "Epoch 23/100\n",
      "381/381 [==============================] - 0s 94us/sample - loss: 0.2410 - acc: 0.9291\n",
      "Epoch 24/100\n",
      "381/381 [==============================] - 0s 78us/sample - loss: 0.2324 - acc: 0.9344\n",
      "Epoch 25/100\n",
      "381/381 [==============================] - 0s 84us/sample - loss: 0.2251 - acc: 0.9344\n",
      "Epoch 26/100\n",
      "381/381 [==============================] - 0s 88us/sample - loss: 0.2184 - acc: 0.9396\n",
      "Epoch 27/100\n",
      "381/381 [==============================] - 0s 88us/sample - loss: 0.2124 - acc: 0.9396\n",
      "Epoch 28/100\n",
      "381/381 [==============================] - 0s 97us/sample - loss: 0.2063 - acc: 0.9423\n",
      "Epoch 29/100\n",
      "381/381 [==============================] - 0s 79us/sample - loss: 0.2012 - acc: 0.9501\n",
      "Epoch 30/100\n",
      "381/381 [==============================] - 0s 92us/sample - loss: 0.1964 - acc: 0.9554\n",
      "Epoch 31/100\n",
      "381/381 [==============================] - 0s 74us/sample - loss: 0.1919 - acc: 0.9554\n",
      "Epoch 32/100\n",
      "381/381 [==============================] - 0s 67us/sample - loss: 0.1878 - acc: 0.9554\n",
      "Epoch 33/100\n",
      "381/381 [==============================] - 0s 75us/sample - loss: 0.1839 - acc: 0.9554\n",
      "Epoch 34/100\n",
      "381/381 [==============================] - 0s 79us/sample - loss: 0.1803 - acc: 0.9580\n",
      "Epoch 35/100\n",
      "381/381 [==============================] - 0s 86us/sample - loss: 0.1771 - acc: 0.9580\n",
      "Epoch 36/100\n",
      "381/381 [==============================] - 0s 85us/sample - loss: 0.1740 - acc: 0.9606\n",
      "Epoch 37/100\n",
      "381/381 [==============================] - 0s 84us/sample - loss: 0.1711 - acc: 0.9659\n",
      "Epoch 38/100\n",
      "381/381 [==============================] - 0s 89us/sample - loss: 0.1683 - acc: 0.9659\n",
      "Epoch 39/100\n",
      "381/381 [==============================] - 0s 101us/sample - loss: 0.1658 - acc: 0.9659\n",
      "Epoch 40/100\n",
      "381/381 [==============================] - 0s 76us/sample - loss: 0.1634 - acc: 0.9659\n",
      "Epoch 41/100\n",
      "381/381 [==============================] - 0s 104us/sample - loss: 0.1611 - acc: 0.9685\n",
      "Epoch 42/100\n",
      "381/381 [==============================] - 0s 96us/sample - loss: 0.1589 - acc: 0.9685\n",
      "Epoch 43/100\n",
      "381/381 [==============================] - 0s 109us/sample - loss: 0.1568 - acc: 0.9685\n",
      "Epoch 44/100\n",
      "381/381 [==============================] - 0s 68us/sample - loss: 0.1549 - acc: 0.9685\n",
      "Epoch 45/100\n",
      "381/381 [==============================] - 0s 94us/sample - loss: 0.1530 - acc: 0.9685\n",
      "Epoch 46/100\n",
      "381/381 [==============================] - 0s 80us/sample - loss: 0.1512 - acc: 0.9685\n",
      "Epoch 47/100\n",
      "381/381 [==============================] - 0s 77us/sample - loss: 0.1495 - acc: 0.9685\n",
      "Epoch 48/100\n",
      "381/381 [==============================] - 0s 81us/sample - loss: 0.1479 - acc: 0.9685\n",
      "Epoch 49/100\n",
      "381/381 [==============================] - 0s 79us/sample - loss: 0.1463 - acc: 0.9685\n",
      "Epoch 50/100\n",
      "381/381 [==============================] - 0s 95us/sample - loss: 0.1448 - acc: 0.9659\n",
      "Epoch 51/100\n",
      "381/381 [==============================] - 0s 100us/sample - loss: 0.1434 - acc: 0.9659\n",
      "Epoch 52/100\n",
      "381/381 [==============================] - 0s 85us/sample - loss: 0.1420 - acc: 0.9659\n",
      "Epoch 53/100\n",
      "381/381 [==============================] - 0s 126us/sample - loss: 0.1406 - acc: 0.9659\n",
      "Epoch 54/100\n",
      "381/381 [==============================] - 0s 80us/sample - loss: 0.1393 - acc: 0.9659\n",
      "Epoch 55/100\n",
      "381/381 [==============================] - 0s 87us/sample - loss: 0.1381 - acc: 0.9659\n",
      "Epoch 56/100\n",
      "381/381 [==============================] - 0s 93us/sample - loss: 0.1369 - acc: 0.9685\n",
      "Epoch 57/100\n",
      "381/381 [==============================] - 0s 124us/sample - loss: 0.1357 - acc: 0.9711\n",
      "Epoch 58/100\n",
      "381/381 [==============================] - 0s 98us/sample - loss: 0.1346 - acc: 0.9711\n",
      "Epoch 59/100\n",
      "381/381 [==============================] - 0s 93us/sample - loss: 0.1335 - acc: 0.9711\n",
      "Epoch 60/100\n",
      "381/381 [==============================] - 0s 68us/sample - loss: 0.1325 - acc: 0.9711\n",
      "Epoch 61/100\n",
      "381/381 [==============================] - 0s 80us/sample - loss: 0.1315 - acc: 0.9738\n",
      "Epoch 62/100\n",
      "381/381 [==============================] - 0s 95us/sample - loss: 0.1305 - acc: 0.9738\n",
      "Epoch 63/100\n",
      "381/381 [==============================] - 0s 61us/sample - loss: 0.1294 - acc: 0.9738\n",
      "Epoch 64/100\n",
      "381/381 [==============================] - 0s 86us/sample - loss: 0.1285 - acc: 0.9738\n",
      "Epoch 65/100\n",
      "381/381 [==============================] - 0s 94us/sample - loss: 0.1276 - acc: 0.9738\n",
      "Epoch 66/100\n",
      "381/381 [==============================] - 0s 93us/sample - loss: 0.1267 - acc: 0.9738\n",
      "Epoch 67/100\n",
      "381/381 [==============================] - 0s 80us/sample - loss: 0.1258 - acc: 0.9738\n",
      "Epoch 68/100\n",
      "381/381 [==============================] - 0s 81us/sample - loss: 0.1250 - acc: 0.9738\n",
      "Epoch 69/100\n",
      "381/381 [==============================] - 0s 74us/sample - loss: 0.1241 - acc: 0.9738\n",
      "Epoch 70/100\n",
      "381/381 [==============================] - 0s 89us/sample - loss: 0.1233 - acc: 0.9738\n",
      "Epoch 71/100\n",
      "381/381 [==============================] - 0s 104us/sample - loss: 0.1226 - acc: 0.9738\n",
      "Epoch 72/100\n",
      "381/381 [==============================] - 0s 58us/sample - loss: 0.1218 - acc: 0.9764\n",
      "Epoch 73/100\n",
      "381/381 [==============================] - 0s 103us/sample - loss: 0.1211 - acc: 0.9764\n",
      "Epoch 74/100\n",
      "381/381 [==============================] - 0s 79us/sample - loss: 0.1203 - acc: 0.9764\n",
      "Epoch 75/100\n",
      "381/381 [==============================] - 0s 83us/sample - loss: 0.1196 - acc: 0.9764\n",
      "Epoch 76/100\n",
      "381/381 [==============================] - 0s 92us/sample - loss: 0.1189 - acc: 0.9764\n",
      "Epoch 77/100\n",
      "381/381 [==============================] - 0s 77us/sample - loss: 0.1182 - acc: 0.9764\n",
      "Epoch 78/100\n",
      "381/381 [==============================] - 0s 72us/sample - loss: 0.1175 - acc: 0.9790\n",
      "Epoch 79/100\n",
      "381/381 [==============================] - 0s 86us/sample - loss: 0.1169 - acc: 0.9790\n",
      "Epoch 80/100\n",
      "381/381 [==============================] - 0s 85us/sample - loss: 0.1163 - acc: 0.9790\n",
      "Epoch 81/100\n",
      "381/381 [==============================] - 0s 80us/sample - loss: 0.1156 - acc: 0.9790\n",
      "Epoch 82/100\n"
     ]
    },
    {
     "name": "stdout",
     "output_type": "stream",
     "text": [
      "381/381 [==============================] - 0s 91us/sample - loss: 0.1150 - acc: 0.9790\n",
      "Epoch 83/100\n",
      "381/381 [==============================] - 0s 97us/sample - loss: 0.1144 - acc: 0.9790\n",
      "Epoch 84/100\n",
      "381/381 [==============================] - 0s 82us/sample - loss: 0.1138 - acc: 0.9790\n",
      "Epoch 85/100\n",
      "381/381 [==============================] - 0s 73us/sample - loss: 0.1133 - acc: 0.9790\n",
      "Epoch 86/100\n",
      "381/381 [==============================] - 0s 67us/sample - loss: 0.1127 - acc: 0.9790\n",
      "Epoch 87/100\n",
      "381/381 [==============================] - 0s 68us/sample - loss: 0.1121 - acc: 0.9790\n",
      "Epoch 88/100\n",
      "381/381 [==============================] - 0s 71us/sample - loss: 0.1116 - acc: 0.9790\n",
      "Epoch 89/100\n",
      "381/381 [==============================] - 0s 76us/sample - loss: 0.1110 - acc: 0.9790\n",
      "Epoch 90/100\n",
      "381/381 [==============================] - 0s 60us/sample - loss: 0.1105 - acc: 0.9790\n",
      "Epoch 91/100\n",
      "381/381 [==============================] - 0s 63us/sample - loss: 0.1100 - acc: 0.9790\n",
      "Epoch 92/100\n",
      "381/381 [==============================] - 0s 62us/sample - loss: 0.1095 - acc: 0.9790\n",
      "Epoch 93/100\n",
      "381/381 [==============================] - 0s 65us/sample - loss: 0.1090 - acc: 0.9790\n",
      "Epoch 94/100\n",
      "381/381 [==============================] - 0s 84us/sample - loss: 0.1086 - acc: 0.9790\n",
      "Epoch 95/100\n",
      "381/381 [==============================] - 0s 92us/sample - loss: 0.1080 - acc: 0.9790\n",
      "Epoch 96/100\n",
      "381/381 [==============================] - 0s 80us/sample - loss: 0.1076 - acc: 0.9790\n",
      "Epoch 97/100\n",
      "381/381 [==============================] - 0s 82us/sample - loss: 0.1071 - acc: 0.9790\n",
      "Epoch 98/100\n",
      "381/381 [==============================] - 0s 80us/sample - loss: 0.1066 - acc: 0.9790\n",
      "Epoch 99/100\n",
      "381/381 [==============================] - 0s 89us/sample - loss: 0.1063 - acc: 0.9790\n",
      "Epoch 100/100\n",
      "381/381 [==============================] - 0s 61us/sample - loss: 0.1058 - acc: 0.9790\n"
     ]
    },
    {
     "data": {
      "text/plain": [
       "<tensorflow.python.keras.callbacks.History at 0x7fa6540d12d0>"
      ]
     },
     "execution_count": 20,
     "metadata": {},
     "output_type": "execute_result"
    }
   ],
   "source": [
    "#Se normalizan los datos de entrada\n",
    "scaler = sk.preprocessing.StandardScaler()\n",
    "trainX2 = scaler.fit_transform(trainX)\n",
    "testX2 = scaler.transform(testX)\n",
    "\n",
    "#Se crea el modelo de Tensorflow\n",
    "model = tf.keras.models.Sequential()\n",
    "model.add(tf.keras.layers.Input(shape=j))\n",
    "model.add(tf.keras.layers.Dense(1,activation=tf.nn.sigmoid))\n",
    "model.compile(optimizer='adam', loss='binary_crossentropy', metrics=['accuracy'])\n",
    "model.fit(trainX2, trainY, epochs=100)\n"
   ]
  },
  {
   "cell_type": "code",
   "execution_count": 21,
   "metadata": {},
   "outputs": [
    {
     "name": "stdout",
     "output_type": "stream",
     "text": [
      "188/188 [==============================] - 0s 357us/sample - loss: 0.0841 - acc: 0.9787\n"
     ]
    },
    {
     "data": {
      "text/plain": [
       "[0.08411415404778846, 0.9787234]"
      ]
     },
     "execution_count": 21,
     "metadata": {},
     "output_type": "execute_result"
    }
   ],
   "source": [
    "model.evaluate(testX2, testY)"
   ]
  },
  {
   "cell_type": "code",
   "execution_count": 79,
   "metadata": {},
   "outputs": [
    {
     "name": "stdout",
     "output_type": "stream",
     "text": [
      "Prediction: [False] , Result 0\n"
     ]
    }
   ],
   "source": [
    "predictions = model.predict(testX2)\n",
    "\n",
    "randomValue = np.random.randint(0,188);\n",
    "print('Prediction:', predictions[randomValue]>.5, ', Result', testY[randomValue])"
   ]
  },
  {
   "cell_type": "code",
   "execution_count": null,
   "metadata": {},
   "outputs": [],
   "source": []
  }
 ],
 "metadata": {
  "kernelspec": {
   "display_name": "Python 3",
   "language": "python",
   "name": "python3"
  },
  "language_info": {
   "codemirror_mode": {
    "name": "ipython",
    "version": 3
   },
   "file_extension": ".py",
   "mimetype": "text/x-python",
   "name": "python",
   "nbconvert_exporter": "python",
   "pygments_lexer": "ipython3",
   "version": "3.7.4"
  }
 },
 "nbformat": 4,
 "nbformat_minor": 2
}
