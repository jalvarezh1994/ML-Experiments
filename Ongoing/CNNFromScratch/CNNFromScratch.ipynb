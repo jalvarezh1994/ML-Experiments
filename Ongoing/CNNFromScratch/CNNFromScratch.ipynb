{
 "cells": [
  {
   "cell_type": "code",
   "execution_count": 1,
   "metadata": {},
   "outputs": [],
   "source": [
    "import tensorflow as tf\n",
    "import numpy as np\n",
    "import matplotlib.pyplot as plt"
   ]
  },
  {
   "cell_type": "code",
   "execution_count": 2,
   "metadata": {},
   "outputs": [],
   "source": [
    "(x_train, y_train), (x_test, y_test) = tf.keras.datasets.mnist.load_data()"
   ]
  },
  {
   "cell_type": "code",
   "execution_count": 3,
   "metadata": {},
   "outputs": [],
   "source": [
    "trainX = (x_train/255).reshape(60000, 28*28)"
   ]
  },
  {
   "cell_type": "code",
   "execution_count": 4,
   "metadata": {},
   "outputs": [
    {
     "output_type": "execute_result",
     "data": {
      "text/plain": [
       "(60000, 784)"
      ]
     },
     "metadata": {},
     "execution_count": 4
    }
   ],
   "source": [
    "trainX.shape"
   ]
  },
  {
   "cell_type": "code",
   "execution_count": 5,
   "metadata": {},
   "outputs": [],
   "source": [
    "arr = np.array([np.zeros(10) for i in y_train])\n",
    "for i, value in enumerate(y_train):\n",
    "    arr[i, value] = 1"
   ]
  },
  {
   "cell_type": "code",
   "execution_count": 6,
   "metadata": {
    "tags": []
   },
   "outputs": [
    {
     "output_type": "execute_result",
     "data": {
      "text/plain": [
       "array([[0., 0., 0., ..., 0., 0., 0.],\n",
       "       [1., 0., 0., ..., 0., 0., 0.],\n",
       "       [0., 0., 0., ..., 0., 0., 0.],\n",
       "       ...,\n",
       "       [0., 0., 0., ..., 0., 0., 0.],\n",
       "       [0., 0., 0., ..., 0., 0., 0.],\n",
       "       [0., 0., 0., ..., 0., 1., 0.]])"
      ]
     },
     "metadata": {},
     "execution_count": 6
    }
   ],
   "source": [
    "arr"
   ]
  },
  {
   "cell_type": "code",
   "execution_count": 7,
   "metadata": {},
   "outputs": [
    {
     "output_type": "execute_result",
     "data": {
      "text/plain": [
       "array([[0., 0., 0., ..., 0., 0., 0.],\n",
       "       [1., 0., 0., ..., 0., 0., 0.],\n",
       "       [0., 0., 0., ..., 0., 0., 0.],\n",
       "       ...,\n",
       "       [0., 0., 0., ..., 0., 0., 0.],\n",
       "       [0., 0., 0., ..., 0., 0., 0.],\n",
       "       [0., 0., 0., ..., 0., 1., 0.]])"
      ]
     },
     "metadata": {},
     "execution_count": 7
    }
   ],
   "source": [
    "trainY = arr\n",
    "trainY\n"
   ]
  },
  {
   "cell_type": "code",
   "execution_count": 8,
   "metadata": {},
   "outputs": [],
   "source": [
    "class MyOutputLayer:\n",
    "    def __init__(self, inputNeurons, outputNeuronsCount, activationFunction=tf.keras.activations.sigmoid):\n",
    "        self.inputNeurons = inputNeurons\n",
    "        self.inputNeuronsCount = inputNeurons.size\n",
    "        self.outputNeuronsCount = outputNeuronsCount\n",
    "        self.activationMatrix = np.random.rand(outputNeuronsCount, self.inputNeuronsCount)\n",
    "        self.biases = np.random.rand(self.outputNeuronsCount)\n",
    "        self.activationFunction = activationFunction\n",
    "        self.loss = None\n",
    "    \n",
    "    def predict(self, inputNeurons=None):\n",
    "        #we calculate the dot product of the weights matrix and the input neuron activations array\n",
    "        t1 = np.dot(self.activationMatrix, inputNeurons if inputNeurons is not None else self.inputNeurons)\n",
    "        #we add the biases\n",
    "        t2 = np.add(t1, self.biases)\n",
    "        #normalize the result with it's largest value\n",
    "        t3 = t2/t2.max()\n",
    "        #we run the result through the activation function\n",
    "        t4 = tf.constant(t3, dtype = tf.float64)\n",
    "        outputNeurons = self.activationFunction(t3).numpy()\n",
    "        return outputNeurons\n",
    "\n",
    "    def backPropagate(self, inputNeurons, expectedOutput):\n",
    "        prediction = self.predict(inputNeurons)\n",
    "        difference = np.add(prediction, -1 * expectedOutput)\n",
    "        loss=np.average(difference)\n",
    "        self.loss=loss\n",
    "        return difference\n",
    "    \n",
    "    "
   ]
  },
  {
   "cell_type": "code",
   "execution_count": 9,
   "metadata": {},
   "outputs": [],
   "source": [
    "lo=MyOutputLayer(trainX[0], 10)"
   ]
  },
  {
   "cell_type": "code",
   "execution_count": 10,
   "metadata": {},
   "outputs": [
    {
     "output_type": "execute_result",
     "data": {
      "text/plain": [
       "array([0.73096583, 0.71545898, 0.71250224, 0.71176999, 0.71502977,\n",
       "       0.73105858, 0.72116481, 0.69500566, 0.71051086, 0.70097675])"
      ]
     },
     "metadata": {},
     "execution_count": 10
    }
   ],
   "source": [
    "lo.predict(trainX[0])"
   ]
  },
  {
   "cell_type": "code",
   "execution_count": 11,
   "metadata": {},
   "outputs": [
    {
     "output_type": "execute_result",
     "data": {
      "text/plain": [
       "array([ 0.73096583,  0.71545898,  0.71250224,  0.71176999,  0.71502977,\n",
       "       -0.26894142,  0.72116481,  0.69500566,  0.71051086,  0.70097675])"
      ]
     },
     "metadata": {},
     "execution_count": 11
    }
   ],
   "source": [
    "lo.backPropagate(trainX[0], trainY[0])"
   ]
  },
  {
   "cell_type": "code",
   "execution_count": 13,
   "metadata": {
    "tags": []
   },
   "outputs": [
    {
     "output_type": "stream",
     "name": "stdout",
     "text": [
      "final loss: 0.6131140001380405\n"
     ]
    }
   ],
   "source": [
    "for i, value in enumerate(trainY):\n",
    "    completionRate = \"{:.2f}\".format(((i+1)/trainY.size)*1000)\n",
    "    print(f'Completion: {completionRate}%  | loss: {lo.loss}', end='' )\n",
    "    lo.backPropagate(trainX[i], trainY[i])\n",
    "    print(end='\\r')\n",
    "print(f'final loss: {lo.loss}')"
   ]
  },
  {
   "cell_type": "code",
   "execution_count": null,
   "metadata": {},
   "outputs": [],
   "source": []
  }
 ],
 "metadata": {
  "kernelspec": {
   "display_name": "Python 3",
   "language": "python",
   "name": "python3"
  },
  "language_info": {
   "codemirror_mode": {
    "name": "ipython",
    "version": 3
   },
   "file_extension": ".py",
   "mimetype": "text/x-python",
   "name": "python",
   "nbconvert_exporter": "python",
   "pygments_lexer": "ipython3",
   "version": "3.8.5-final"
  }
 },
 "nbformat": 4,
 "nbformat_minor": 5
}