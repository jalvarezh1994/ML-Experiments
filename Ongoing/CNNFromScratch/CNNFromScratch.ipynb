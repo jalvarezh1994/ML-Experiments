{
 "cells": [
  {
   "cell_type": "code",
   "execution_count": 2,
   "id": "caroline-accident",
   "metadata": {},
   "outputs": [],
   "source": [
    "import tensorflow as tf\n",
    "import numpy as np"
   ]
  },
  {
   "cell_type": "code",
   "execution_count": 3,
   "id": "dirty-ready",
   "metadata": {},
   "outputs": [],
   "source": [
    "(x_train, y_train), (x_test, y_test) = tf.keras.datasets.mnist.load_data()"
   ]
  },
  {
   "cell_type": "code",
   "execution_count": 4,
   "id": "three-gazette",
   "metadata": {},
   "outputs": [],
   "source": [
    "trainX2 = (x_train/255).reshape(60000, 28*28)"
   ]
  },
  {
   "cell_type": "code",
   "execution_count": 5,
   "id": "empty-friday",
   "metadata": {},
   "outputs": [
    {
     "output_type": "execute_result",
     "data": {
      "text/plain": [
       "(60000, 784)"
      ]
     },
     "metadata": {},
     "execution_count": 5
    }
   ],
   "source": [
    "trainX2.shape"
   ]
  },
  {
   "cell_type": "code",
   "execution_count": 6,
   "id": "biblical-destination",
   "metadata": {},
   "outputs": [],
   "source": [
    "class MyDenseLayer:\n",
    "    def __init__(self, inputNeurons, outputNeuronsCount, activationFunctionName='sigmoid'):\n",
    "        self.inputNeurons = inputNeurons\n",
    "        self.inputNeuronsCount = inputNeurons.size\n",
    "        self.outputNeuronsCount = outputNeuronsCount\n",
    "        self.activationMatrix = np.random.rand(outputNeuronsCount, self.inputNeuronsCount)\n",
    "        self.biases = np.random.rand(self.outputNeuronsCount)\n",
    "        self.activationFunctionName = activationFunctionName\n",
    "    \n",
    "    def getOutput(self):\n",
    "        #we calculate the dot product of the weights matrix and the input neuron activations array\n",
    "#         print(self.activationMatrix.shape, self.inputNeurons.shape)\n",
    "#         print(self.activationMatrix)\n",
    "#         print(self.inputNeurons)\n",
    "        t1 = np.dot(self.activationMatrix, self.inputNeurons)\n",
    "        print('t1', t1)\n",
    "        #we add the biases\n",
    "        t2 = np.add(t1, self.biases)\n",
    "#         print('t2', t2)\n",
    "        #we run the result through the activation function\n",
    "        t3 = tf.constant(t2, dtype = tf.float64)\n",
    "#         print('t3', t3)\n",
    "        activationFunctionName = self.activationFunctionName\n",
    "        evalString = f'tf.keras.activations.{activationFunctionName}(t3).numpy()'\n",
    "        outputNeurons = eval(evalString)\n",
    "        return outputNeurons\n",
    "    \n",
    "    def backPropagate(self):\n",
    "        pass\n",
    "    \n",
    "    "
   ]
  },
  {
   "cell_type": "code",
   "execution_count": 7,
   "id": "unlimited-detroit",
   "metadata": {},
   "outputs": [],
   "source": [
    "l1=MyDenseLayer(trainX2[1], 10, 'relu')"
   ]
  },
  {
   "cell_type": "code",
   "execution_count": 8,
   "id": "local-timber",
   "metadata": {},
   "outputs": [
    {
     "output_type": "stream",
     "name": "stdout",
     "text": [
      "t1 [65.30782339 60.80256229 63.73023206 64.7293556  58.20354657 65.06220745\n 62.44758001 58.49968194 55.85423326 55.64701809]\n"
     ]
    },
    {
     "output_type": "execute_result",
     "data": {
      "text/plain": [
       "array([66.0217603 , 61.32108371, 64.21712213, 65.28007537, 58.48521222,\n",
       "       65.37812556, 62.79288424, 58.64774784, 56.26233959, 56.04411562])"
      ]
     },
     "metadata": {},
     "execution_count": 8
    }
   ],
   "source": [
    "l1.getOutput()"
   ]
  },
  {
   "cell_type": "code",
   "execution_count": 9,
   "id": "incredible-leadership",
   "metadata": {},
   "outputs": [
    {
     "output_type": "execute_result",
     "data": {
      "text/plain": [
       "array([[0.30098416, 0.16156246],\n",
       "       [0.50704979, 0.46405971],\n",
       "       [0.53694685, 0.36774269]])"
      ]
     },
     "metadata": {},
     "execution_count": 9
    }
   ],
   "source": [
    "np.random.rand(3,2)"
   ]
  }
 ],
 "metadata": {
  "kernelspec": {
   "display_name": "Python 3",
   "language": "python",
   "name": "python3"
  },
  "language_info": {
   "codemirror_mode": {
    "name": "ipython",
    "version": 3
   },
   "file_extension": ".py",
   "mimetype": "text/x-python",
   "name": "python",
   "nbconvert_exporter": "python",
   "pygments_lexer": "ipython3",
   "version": "3.8.5-final"
  }
 },
 "nbformat": 4,
 "nbformat_minor": 5
}